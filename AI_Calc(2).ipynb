{
  "nbformat": 4,
  "nbformat_minor": 0,
  "metadata": {
    "colab": {
      "provenance": [],
      "include_colab_link": true
    },
    "kernelspec": {
      "name": "python3",
      "display_name": "Python 3"
    },
    "language_info": {
      "name": "python"
    }
  },
  "cells": [
    {
      "cell_type": "markdown",
      "metadata": {
        "id": "view-in-github",
        "colab_type": "text"
      },
      "source": [
        "<a href=\"https://colab.research.google.com/github/sk-khaja/khaja/blob/main/AI_Calc(2).ipynb\" target=\"_parent\"><img src=\"https://colab.research.google.com/assets/colab-badge.svg\" alt=\"Open In Colab\"/></a>"
      ]
    },
    {
      "cell_type": "code",
      "execution_count": null,
      "metadata": {
        "colab": {
          "base_uri": "https://localhost:8080/"
        },
        "id": "1ZFXqwUmGNDv",
        "outputId": "fc0f503c-6c0b-4e0c-9b9f-26d199105011"
      },
      "outputs": [
        {
          "output_type": "stream",
          "name": "stdout",
          "text": [
            "Collecting SpeechRecognition\n",
            "  Downloading speechrecognition-3.14.3-py3-none-any.whl.metadata (30 kB)\n",
            "Collecting gTTS\n",
            "  Downloading gTTS-2.5.4-py3-none-any.whl.metadata (4.1 kB)\n",
            "Collecting pydub\n",
            "  Downloading pydub-0.25.1-py2.py3-none-any.whl.metadata (1.4 kB)\n",
            "Requirement already satisfied: typing-extensions in /usr/local/lib/python3.11/dist-packages (from SpeechRecognition) (4.13.2)\n",
            "Requirement already satisfied: requests<3,>=2.27 in /usr/local/lib/python3.11/dist-packages (from gTTS) (2.32.3)\n",
            "Collecting click<8.2,>=7.1 (from gTTS)\n",
            "  Downloading click-8.1.8-py3-none-any.whl.metadata (2.3 kB)\n",
            "Requirement already satisfied: charset-normalizer<4,>=2 in /usr/local/lib/python3.11/dist-packages (from requests<3,>=2.27->gTTS) (3.4.2)\n",
            "Requirement already satisfied: idna<4,>=2.5 in /usr/local/lib/python3.11/dist-packages (from requests<3,>=2.27->gTTS) (3.10)\n",
            "Requirement already satisfied: urllib3<3,>=1.21.1 in /usr/local/lib/python3.11/dist-packages (from requests<3,>=2.27->gTTS) (2.4.0)\n",
            "Requirement already satisfied: certifi>=2017.4.17 in /usr/local/lib/python3.11/dist-packages (from requests<3,>=2.27->gTTS) (2025.4.26)\n",
            "Downloading speechrecognition-3.14.3-py3-none-any.whl (32.9 MB)\n",
            "\u001b[2K   \u001b[90m━━━━━━━━━━━━━━━━━━━━━━━━━━━━━━━━━━━━━━━━\u001b[0m \u001b[32m32.9/32.9 MB\u001b[0m \u001b[31m14.0 MB/s\u001b[0m eta \u001b[36m0:00:00\u001b[0m\n",
            "\u001b[?25hDownloading gTTS-2.5.4-py3-none-any.whl (29 kB)\n",
            "Downloading pydub-0.25.1-py2.py3-none-any.whl (32 kB)\n",
            "Downloading click-8.1.8-py3-none-any.whl (98 kB)\n",
            "\u001b[2K   \u001b[90m━━━━━━━━━━━━━━━━━━━━━━━━━━━━━━━━━━━━━━━━\u001b[0m \u001b[32m98.2/98.2 kB\u001b[0m \u001b[31m4.6 MB/s\u001b[0m eta \u001b[36m0:00:00\u001b[0m\n",
            "\u001b[?25h"
          ]
        }
      ],
      "source": [
        "!pip install SpeechRecognition gTTS pydub\n",
        "!apt install ffmpeg\n"
      ]
    },
    {
      "cell_type": "code",
      "source": [
        "\n",
        "\n",
        "from google.colab import files\n",
        "uploaded = files.upload()\n",
        "audio_file = next(iter(uploaded))\n",
        "print(\"Uploaded:\", audio_file)"
      ],
      "metadata": {
        "id": "ll2ccy8kGQch"
      },
      "execution_count": null,
      "outputs": []
    },
    {
      "cell_type": "code",
      "source": [
        "import speech_recognition as sr\n",
        "from gtts import gTTS\n",
        "from pydub import AudioSegment\n",
        "import re\n",
        "\n",
        "def convert_audio_to_wav(input_file):\n",
        "    if input_file.endswith('.mp3'):\n",
        "        sound = AudioSegment.from_mp3(input_file)\n",
        "        wav_file = input_file.replace('.mp3', '.wav')\n",
        "        sound.export(wav_file, format=\"wav\")\n",
        "        return wav_file\n",
        "    return input_file"
      ],
      "metadata": {
        "id": "TxKK-JiYGceP"
      },
      "execution_count": null,
      "outputs": []
    },
    {
      "cell_type": "code",
      "source": [
        "def transcribe_audio(file_path):\n",
        "    r = sr.Recognizer()\n",
        "    with sr.AudioFile(file_path) as source:\n",
        "        audio_data = r.record(source)\n",
        "        try:\n",
        "            text = r.recognize_google(audio_data)\n",
        "            print(\"Recognized Speech:\", text)\n",
        "            return text\n",
        "        except sr.UnknownValueError:\n",
        "            print(\"Could not understand audio\")\n",
        "            return None\n",
        "        except sr.RequestError as e:\n",
        "            print(\"API error:\", e)\n",
        "            return None\n"
      ],
      "metadata": {
        "id": "S-d6YBayGvH3"
      },
      "execution_count": null,
      "outputs": []
    },
    {
      "cell_type": "code",
      "source": [
        "def text_to_math(expr):\n",
        "    expr = expr.lower()\n",
        "    expr = expr.replace(\"plus\", \"+\").replace(\"minus\", \"-\")\n",
        "    expr = expr.replace(\"times\", \"*\").replace(\"multiplied by\", \"*\")\n",
        "    expr = expr.replace(\"divide\", \"/\").replace(\"divided by\", \"/\")\n",
        "    expr = expr.replace(\"power\", \"**\")\n",
        "\n",
        "    word_to_num = {\n",
        "        'zero': '0', 'one': '1', 'two': '2', 'three': '3', 'four': '4',\n",
        "        'five': '5', 'six': '6', 'seven': '7', 'eight': '8', 'nine': '9',\n",
        "        'ten': '10'\n",
        "    }\n",
        "\n",
        "    for word, num in word_to_num.items():\n",
        "        expr = re.sub(r'\\b' + word + r'\\b', num, expr)\n",
        "\n",
        "    return expr\n",
        "\n",
        "def calculate(expression):\n",
        "    try:\n",
        "        if re.match(r'^[0-9+\\-*/().\\s**]+$', expression):\n",
        "            result = eval(expression)\n",
        "            return result\n",
        "        else:\n",
        "            return \"Invalid characters\"\n",
        "    except Exception as e:\n",
        "        return f\"Error: {e}\"\n"
      ],
      "metadata": {
        "id": "PsxH5NBWGxg3"
      },
      "execution_count": null,
      "outputs": []
    },
    {
      "cell_type": "code",
      "source": [
        "\n",
        "def speak(text, filename='result.mp3'):\n",
        "    tts = gTTS(text=text, lang='en')\n",
        "    tts.save(filename)\n",
        "    print(\"Generated speech:\", filename)\n",
        "\n",
        "    from google.colab import files\n",
        "    files.download(filename)\n"
      ],
      "metadata": {
        "id": "wVHinED9G4dn"
      },
      "execution_count": null,
      "outputs": []
    },
    {
      "cell_type": "code",
      "source": [
        "audio_path = convert_audio_to_wav(audio_file)\n",
        "\n",
        "spoken = transcribe_audio(audio_path)\n",
        "if spoken:\n",
        "    math_expr = text_to_math(spoken)\n",
        "    print(\"Parsed expression:\", math_expr)\n",
        "    result = calculate(math_expr)\n",
        "    print(\"Result:\", result)\n",
        "    speak(f\"The result is {result}\")\n",
        "\n"
      ],
      "metadata": {
        "id": "lhG5YJcuG7fX"
      },
      "execution_count": null,
      "outputs": []
    },
    {
      "cell_type": "code",
      "source": [
        "!cp AI-Calc(2).ipynb newAiCalc(2).ipynb"
      ],
      "metadata": {
        "id": "PfoloFKFG_Cv"
      },
      "execution_count": null,
      "outputs": []
    },
    {
      "cell_type": "code",
      "source": [],
      "metadata": {
        "id": "eJEaPuMpNxaH"
      },
      "execution_count": null,
      "outputs": []
    }
  ]
}